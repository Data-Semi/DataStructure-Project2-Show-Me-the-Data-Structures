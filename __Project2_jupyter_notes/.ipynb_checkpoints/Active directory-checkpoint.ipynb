{
 "cells": [
  {
   "cell_type": "markdown",
   "metadata": {},
   "source": [
    "## Active Directory\n",
    "### problem description  \n",
    "\n",
    "In Windows Active Directory, a group can consist of user(s) and group(s) themselves. We can construct this hierarchy as such. Where User is represented by str representing their ids.  \n",
    "Write a function that provides an efficient look up of whether the user is in a group."
   ]
  },
  {
   "cell_type": "markdown",
   "metadata": {},
   "source": [
    "### Analysis\n",
    "I decided to use recursion. If there is a subgroup inside a group, recrsively use the method is_user_in_group().\n",
    "For better understanding, I made the method print_group_structure() to print out full pathes of every finding in the inputed group.\n",
    "Tests includes as below:\n",
    "Test case 1: The user is inside the group\n",
    "Test case2: The user is not inside the group\n",
    "Test case3: No user to find\n",
    "Test case4: empty group\n",
    "Test case5: Befor and after add a user to a group"
   ]
  },
  {
   "cell_type": "code",
   "execution_count": 43,
   "metadata": {},
   "outputs": [],
   "source": [
    "class Group(object):\n",
    "    def __init__(self, _name=None):\n",
    "        self.name = _name\n",
    "        self.groups = []\n",
    "        self.users = []\n",
    "\n",
    "    def add_group(self, group):\n",
    "        self.groups.append(group)\n",
    "\n",
    "    def add_user(self, user):\n",
    "        self.users.append(user)\n",
    "\n",
    "    def get_groups(self):\n",
    "        return self.groups\n",
    "\n",
    "    def get_users(self):\n",
    "        return self.users\n",
    "\n",
    "    def get_name(self):\n",
    "        return self.name\n",
    "\n",
    "#Write a function that provides an efficient look up of whether the user is in a group.\n",
    "def is_user_in_group(user, group):\n",
    "    \"\"\"\n",
    "    Return True if user is in the group, False otherwise.\n",
    "\n",
    "    Args:\n",
    "      user(str): user name/id\n",
    "      group(class:Group): group to check user membership against\n",
    "    \"\"\"\n",
    "    # If any of the input is empty\n",
    "    if user == \"\" or group.get_name() is None:\n",
    "        return False\n",
    "        \n",
    "    result = False\n",
    "    sub_groups = group.get_groups()\n",
    "    users = group.get_users()\n",
    "    if user in users:\n",
    "        return True\n",
    "    else:\n",
    "        for sub_group in sub_groups:\n",
    "            result = is_user_in_group(user,sub_group)\n",
    "            if result is True:\n",
    "                break\n",
    "    return result"
   ]
  },
  {
   "cell_type": "code",
   "execution_count": 44,
   "metadata": {},
   "outputs": [],
   "source": [
    "def test_function(func_return,expected_result):\n",
    "    if (func_return == expected_result):\n",
    "        print(\"pass\")\n",
    "    else:\n",
    "        print(\"fail\")\n",
    "        print(\"The function returned: \", func_return)\n",
    "        \n",
    "# the group structure is as below:\n",
    "# group name is follwed by \"/\"\n",
    "def print_group_structure(group, parent_path = \"\"):\n",
    "    \"\"\"\n",
    "    Return True if user is in the group, False otherwise.\n",
    "\n",
    "    Args:\n",
    "      user(str): user name/id\n",
    "      group(class:Group): group to check user membership against\n",
    "    \"\"\"\n",
    "    if group.name is None:\n",
    "        print(\"It is an empty group.\")\n",
    "        return\n",
    "    sub_groups = group.get_groups()\n",
    "    users = group.get_users()\n",
    "    now_group_path = parent_path + group.get_name() + \"/\"\n",
    "    \n",
    "    print(now_group_path)\n",
    "    \n",
    "    path = \"\"\n",
    "    \n",
    "    for user in users:\n",
    "        print(now_group_path + user)\n",
    "        \n",
    "    for sub_group in sub_groups:\n",
    "        print_group_structure(sub_group, now_group_path)"
   ]
  },
  {
   "cell_type": "code",
   "execution_count": 45,
   "metadata": {
    "scrolled": false
   },
   "outputs": [
    {
     "name": "stdout",
     "output_type": "stream",
     "text": [
      "pass\n",
      "pass\n",
      "pass\n",
      "pass\n",
      "pass\n",
      "pass\n",
      "pass\n",
      "pass\n",
      "pass\n"
     ]
    }
   ],
   "source": [
    "parent = Group(\"parent\")\n",
    "child = Group(\"child\")\n",
    "sub_child = Group(\"subchild\")\n",
    "empty_group = Group()\n",
    "\n",
    "sub_child_user = \"sub_child_user\"\n",
    "sub_child.add_user(sub_child_user)\n",
    "child.add_group(sub_child)\n",
    "parent.add_group(child)\n",
    "\n",
    "# Test case1: The user is inside the group\n",
    "test_function(is_user_in_group(\"sub_child_user\", parent), True)  \n",
    "test_function(is_user_in_group(\"sub_child_user\", child), True)\n",
    "test_function(is_user_in_group(\"sub_child_user\", sub_child), True)\n",
    "\n",
    "# Test case2: The user is not inside the group\n",
    "test_function(is_user_in_group(\"anyuser\", sub_child), False)  \n",
    "test_function(is_user_in_group(\"anyuser\", parent), False)\n",
    "\n",
    "# Test case3: No user to find\n",
    "test_function(is_user_in_group(\"\", parent), False)  \n",
    "\n",
    "# Test case4: empty group\n",
    "test_function(is_user_in_group(\"sub_child_user\",empty_group), False)  \n",
    "\n",
    "# Test case5: Befor and after add a user to a group\n",
    "test_function(is_user_in_group(\"parent_user\", parent), False) \n",
    "parent.add_user(\"parent_user\")\n",
    "test_function(is_user_in_group(\"parent_user\", parent), True)\n"
   ]
  },
  {
   "cell_type": "code",
   "execution_count": 52,
   "metadata": {},
   "outputs": [
    {
     "name": "stdout",
     "output_type": "stream",
     "text": [
      "parent/\n",
      "parent/parent_user\n",
      "parent/child/\n",
      "parent/child/subchild/\n",
      "parent/child/subchild/sub_child_user\n"
     ]
    }
   ],
   "source": [
    "print_group_structure(parent)"
   ]
  },
  {
   "cell_type": "code",
   "execution_count": 53,
   "metadata": {},
   "outputs": [
    {
     "name": "stdout",
     "output_type": "stream",
     "text": [
      "It is an empty group.\n"
     ]
    }
   ],
   "source": [
    "print_group_structure(empty_group)"
   ]
  }
 ],
 "metadata": {
  "kernelspec": {
   "display_name": "Python 3",
   "language": "python",
   "name": "python3"
  },
  "language_info": {
   "codemirror_mode": {
    "name": "ipython",
    "version": 3
   },
   "file_extension": ".py",
   "mimetype": "text/x-python",
   "name": "python",
   "nbconvert_exporter": "python",
   "pygments_lexer": "ipython3",
   "version": "3.7.7"
  }
 },
 "nbformat": 4,
 "nbformat_minor": 4
}
