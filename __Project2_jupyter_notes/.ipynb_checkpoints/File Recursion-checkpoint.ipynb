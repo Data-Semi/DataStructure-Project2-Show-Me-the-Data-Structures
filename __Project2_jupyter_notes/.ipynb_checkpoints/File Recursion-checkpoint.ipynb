{
 "cells": [
  {
   "cell_type": "markdown",
   "metadata": {},
   "source": [
    "## Finding Files\n",
    "For this problem, the goal is to write code for finding all files under a directory (and all directories beneath it) that end with \".c\"\n",
    "\n",
    "Here is an example of a test directory listing, which can be downloaded here:\n",
    "\n",
    "./testdir\n",
    "./testdir/subdir1\n",
    "./testdir/subdir1/a.c\n",
    "./testdir/subdir1/a.h\n",
    "./testdir/subdir2\n",
    "./testdir/subdir2/.gitkeep\n",
    "./testdir/subdir3\n",
    "./testdir/subdir3/subsubdir1\n",
    "./testdir/subdir3/subsubdir1/b.c\n",
    "./testdir/subdir3/subsubdir1/b.h\n",
    "./testdir/subdir4\n",
    "./testdir/subdir4/.gitkeep\n",
    "./testdir/subdir5\n",
    "./testdir/subdir5/a.c\n",
    "./testdir/subdir5/a.h\n",
    "./testdir/t1.c\n",
    "./testdir/t1.h  \n",
    "\n",
    "Python's os module will be useful—in particular, you may want to use the following resources:\n",
    "\n",
    "os.path.isdir(path)\n",
    "\n",
    "os.path.isfile(path)\n",
    "\n",
    "os.listdir(directory)\n",
    "\n",
    "os.path.join(...)\n",
    "\n",
    "Note: os.walk() is a handy Python method which can achieve this task very easily. However, for this problem you are not allowed to use os.walk()."
   ]
  },
  {
   "cell_type": "markdown",
   "metadata": {},
   "source": [
    "## Analysis\n",
    "This program can find all files under a directory (and all directories beneath it) that end with any specified suffix.  \n",
    "The method is using recursively. Everytime when the method found an subdirectory it will recursively call itself,   \n",
    "otherwise it will judge whether the path macth the suffix or not.  \n",
    "Every matched answer will append to the answer list to output.  "
   ]
  },
  {
   "cell_type": "code",
   "execution_count": 1,
   "metadata": {},
   "outputs": [],
   "source": [
    "# recursion\n",
    "#get a path list inside the path, and loop inside \n",
    "# if it is a file,\n",
    "    #check if this file has the suffix\n",
    "# elif it is a subdirectory, \n",
    "    #call the function recursively\n",
    "    \n",
    "import os\n",
    "\n",
    "answer=[]\n",
    "def find_files(suffix, path):\n",
    "    \"\"\"\n",
    "    Find all files beneath path with file name suffix.\n",
    "\n",
    "    Note that a path may contain further subdirectories\n",
    "    and those subdirectories may also contain further subdirectories.\n",
    "\n",
    "    There are no limit to the depth of the subdirectories can be.\n",
    "\n",
    "    Args:\n",
    "      suffix(str): suffix if the file name to be found\n",
    "      path(str): path of the file system\n",
    "\n",
    "    Returns:\n",
    "       a list of paths\n",
    "    \"\"\"\n",
    "    #Base condition\n",
    "    if os.path.exists(path):  # if the path is exists\n",
    "        if os.listdir(path) == []:  # inside the path is empty\n",
    "            return None\n",
    "    else:  # if the path is not exists\n",
    "        return None\n",
    "    \n",
    "    answer = []\n",
    "    dir_list = os.listdir(path)  # ['subdir1', 'subdir2', 'subdir3', 'subdir4', 'subdir5', 't1.c', 't1.h']\n",
    "    for sub_path in dir_list:\n",
    "        fullpath = path + \"/\" + sub_path\n",
    "        if os.path.isfile(fullpath):  # os.path.isfile(\"./testdir/\"+\"subdir3\")\n",
    "            if sub_path.endswith(suffix):\n",
    "                answer.append(fullpath)\n",
    "        else:\n",
    "            small_output = find_files(suffix,fullpath)\n",
    "            answer.extend(small_output)\n",
    "    return answer\n"
   ]
  },
  {
   "cell_type": "code",
   "execution_count": 2,
   "metadata": {},
   "outputs": [],
   "source": [
    "def test_function(func_return,expected_result):\n",
    "    if (func_return == expected_result):\n",
    "        print(\"pass\")\n",
    "    else:\n",
    "        print(\"fail\")\n",
    "        print(\"The function returned: \", func_return)"
   ]
  },
  {
   "cell_type": "code",
   "execution_count": 3,
   "metadata": {},
   "outputs": [
    {
     "name": "stdout",
     "output_type": "stream",
     "text": [
      "pass\n"
     ]
    }
   ],
   "source": [
    "#Test case 1, find *.c files\n",
    "test_c = find_files(\".c\",\"./testdir\")\n",
    "answer_c =['./testdir/subdir1/a.c',\n",
    " './testdir/subdir3/subsubdir1/b.c',\n",
    " './testdir/subdir5/a.c',\n",
    " './testdir/t1.c']\n",
    "test_function(test_c, answer_c)"
   ]
  },
  {
   "cell_type": "code",
   "execution_count": 4,
   "metadata": {},
   "outputs": [
    {
     "name": "stdout",
     "output_type": "stream",
     "text": [
      "pass\n"
     ]
    }
   ],
   "source": [
    "#Test case 2, find *.h files\n",
    "test_h = find_files(\".h\",\"./testdir\")\n",
    "answer_h =['./testdir/subdir1/a.h',\n",
    " './testdir/subdir3/subsubdir1/b.h',\n",
    " './testdir/subdir5/a.h',\n",
    " './testdir/t1.h']\n",
    "test_function(test_h, answer_h)"
   ]
  },
  {
   "cell_type": "code",
   "execution_count": 7,
   "metadata": {},
   "outputs": [
    {
     "name": "stdout",
     "output_type": "stream",
     "text": [
      "pass\n"
     ]
    }
   ],
   "source": [
    "#Test case 3, edge case, list all files inside the derectory\n",
    "test_all = find_files(\"\",\"./testdir\")\n",
    "answer_all = ['./testdir/subdir1/a.c',\n",
    " './testdir/subdir1/a.h',\n",
    " './testdir/subdir2/.gitkeep',\n",
    " './testdir/subdir3/subsubdir1/b.c',\n",
    " './testdir/subdir3/subsubdir1/b.h',\n",
    " './testdir/subdir4/.gitkeep',\n",
    " './testdir/subdir5/a.c',\n",
    " './testdir/subdir5/a.h',\n",
    " './testdir/t1.c',\n",
    " './testdir/t1.h']\n",
    "test_function(test_all, answer_all)"
   ]
  },
  {
   "cell_type": "code",
   "execution_count": 8,
   "metadata": {},
   "outputs": [
    {
     "name": "stdout",
     "output_type": "stream",
     "text": [
      "pass\n"
     ]
    }
   ],
   "source": [
    "#Test case 4, edge case, there is no such directory\n",
    "test_None = find_files(\"\",\"\")\n",
    "answer_None = None\n",
    "test_function(test_None, answer_None)"
   ]
  },
  {
   "cell_type": "code",
   "execution_count": null,
   "metadata": {},
   "outputs": [],
   "source": []
  }
 ],
 "metadata": {
  "kernelspec": {
   "display_name": "Python 3",
   "language": "python",
   "name": "python3"
  },
  "language_info": {
   "codemirror_mode": {
    "name": "ipython",
    "version": 3
   },
   "file_extension": ".py",
   "mimetype": "text/x-python",
   "name": "python",
   "nbconvert_exporter": "python",
   "pygments_lexer": "ipython3",
   "version": "3.7.7"
  }
 },
 "nbformat": 4,
 "nbformat_minor": 4
}
