{
 "cells": [
  {
   "cell_type": "markdown",
   "metadata": {},
   "source": [
    "## Blockchain\n",
    "A Blockchain is a sequential chain of records, similar to a linked list. Each block contains some information and how it is connected related to the other blocks in the chain. Each block contains a cryptographic hash of the previous block, a timestamp, and transaction data. For our blockchain we will be using a SHA-256 hash, the Greenwich Mean Time when the block was created, and text strings as the data.  \n",
    "\n",
    "Use your knowledge of linked lists and hashing to create a blockchain implementation.  \n",
    "We can break the blockchain down into three main parts.  \n",
    "\n",
    "First is the information hash:   \n",
    "import hashlib  \n",
    "\n",
    "def calc_hash(self):  \n",
    "      sha = hashlib.sha256()  \n",
    "\n",
    "      hash_str = \"We are going to encode this string of data!\".encode('utf-8')\n",
    "\n",
    "      sha.update(hash_str)\n",
    "\n",
    "      return sha.hexdigest()  \n",
    "We do this for the information we want to store in the block chain such as transaction time, data, and information like the previous chain.  \n",
    "\n",
    "The next main component is the block on the blockchain:  \n",
    "\n",
    "class Block:  \n",
    "\n",
    "    def __init__(self, timestamp, data, previous_hash):  \n",
    "      self.timestamp = timestamp\n",
    "      self.data = data\n",
    "      self.previous_hash = previous_hash\n",
    "      self.hash = self.calc_hash()  \n",
    "      \n",
    "Above is an example of attributes you could find in a Block class.    \n",
    "\n",
    "Finally you need to link all of this together in a block chain, which you will be doing by implementing it in a linked list. All of this will help you build up to a simple but full blockchain implementation!  \n",
    "\n"
   ]
  },
  {
   "cell_type": "markdown",
   "metadata": {},
   "source": [
    "### Analysis\n",
    "The block chain is a linked list, and every node is an object of a Block class.\n",
    "The hash value inside a block node includes Greenwich Mean Time timestamp, data and the hash value of previous block node.\n"
   ]
  },
  {
   "cell_type": "code",
   "execution_count": 2,
   "metadata": {},
   "outputs": [],
   "source": [
    "import hashlib\n",
    "import datetime\n",
    "import json\n",
    "\n",
    "class Block:\n",
    "    \n",
    "    def __init__(self, timestamp, data, previous_hash):\n",
    "        self.timestamp = timestamp  # Greenwich Mean Time\n",
    "        self.data = data\n",
    "        self.previous_hash = previous_hash\n",
    "        self.now_hash = self.calc_hash()\n",
    "        self.next = None\n",
    "        \n",
    "    def calc_hash(self):\n",
    "        sha = hashlib.sha256()\n",
    "        \n",
    "    # join the block data to prepare encoding\n",
    "        joined_data = {\n",
    "            'timestamp'        : str(self.timestamp),\\\n",
    "            'data'             : self.data,\\\n",
    "            'previous_hash'    : self.previous_hash\n",
    "        }\n",
    "        json_text = json.dumps(joined_data, sort_keys=True)\n",
    "        hash_str = json_text.encode('utf-8')\n",
    "        sha.update(hash_str)\n",
    "        return sha.hexdigest()\n",
    "    \n",
    "    def __repr__(self):\n",
    "        return str(self.timestamp) + str(\" | \") +\\\n",
    "        str(self.data) + str(\" | \") + str(self.previous_hash) +\\\n",
    "        str(\" | \") + str(self.now_hash)\n",
    "\n",
    "class BlockChain(object):\n",
    "    \n",
    "    def __init__(self):\n",
    "        self.head = None\n",
    "        self.tail = None\n",
    "        \n",
    "    def appendBlock(self, data):\n",
    "        if data is None or data ==\"\":\n",
    "            return\n",
    "        elif self.head is None:\n",
    "            self.head = Block(datetime.datetime.utcnow(), data, 0)\n",
    "            self.tail = self.head\n",
    "        else:\n",
    "            self.tail.next = Block(datetime.datetime.utcnow(), data, self.tail.now_hash)\n",
    "            self.tail = self.tail.next\n",
    "        return\n",
    "    \n",
    "    def toList(self):\n",
    "        out = []\n",
    "        block = self.head\n",
    "        while block:\n",
    "            out.append([block])\n",
    "            block = block.next\n",
    "        return out\n",
    "\n"
   ]
  },
  {
   "cell_type": "code",
   "execution_count": 3,
   "metadata": {
    "scrolled": true
   },
   "outputs": [
    {
     "name": "stdout",
     "output_type": "stream",
     "text": [
      "time | data | previous hash | hash\n",
      "[2021-01-25 19:45:24.922303 | Data: First Blockchain block | 0 | af88e0f3520e80abfc02c4ea912b19628c1c69d98341ed8923cb77319f7c4306]\n",
      "[2021-01-25 19:45:24.922303 | Data: Second Blockchain block | af88e0f3520e80abfc02c4ea912b19628c1c69d98341ed8923cb77319f7c4306 | bf87382eacf3d9bbf927313971c383740d878a1e675cc6289194f94731be0854]\n",
      "[2021-01-25 19:45:24.922303 | Data: Third Blockchain block | bf87382eacf3d9bbf927313971c383740d878a1e675cc6289194f94731be0854 | 495e59e818af7ab2e423dffe8bce8585ad5c49e8f0e4c549b2faf1fcf8b74f55]\n",
      "[]\n",
      "[]\n"
     ]
    }
   ],
   "source": [
    "def main():\n",
    "    # Test Case 1 normal uses\n",
    "    bl = BlockChain()\n",
    "    data1 = \"Data: First Blockchain block\"\n",
    "    data2 = \"Data: Second Blockchain block\"\n",
    "    data3 = \"Data: Third Blockchain block\"\n",
    "    bl.appendBlock(data1)\n",
    "    bl.appendBlock(data2)\n",
    "    bl.appendBlock(data3)\n",
    "    print(\"|time | data | previous hash | hash|\")\n",
    "    for lists in bl.toList(): # Print block chain\n",
    "         print(lists)\n",
    "            \n",
    "    # Test Case 2 no data has been passed\n",
    "    bl1 = BlockChain()\n",
    "    bl1.appendBlock(\"\")\n",
    "    bl1.appendBlock(\"\")\n",
    "    print(bl1.toList())  # empty block chain\n",
    "    \n",
    "    #Test Case 3 no data has been passed\n",
    "    bl2 = BlockChain()\n",
    "    bl2.appendBlock(None)\n",
    "    bl2.appendBlock(None)\n",
    "    print(bl2.toList())  # empty block chain\n",
    "if __name__ == \"__main__\":\n",
    "    main()"
   ]
  },
  {
   "cell_type": "code",
   "execution_count": null,
   "metadata": {},
   "outputs": [],
   "source": []
  }
 ],
 "metadata": {
  "kernelspec": {
   "display_name": "Python 3",
   "language": "python",
   "name": "python3"
  },
  "language_info": {
   "codemirror_mode": {
    "name": "ipython",
    "version": 3
   },
   "file_extension": ".py",
   "mimetype": "text/x-python",
   "name": "python",
   "nbconvert_exporter": "python",
   "pygments_lexer": "ipython3",
   "version": "3.7.7"
  }
 },
 "nbformat": 4,
 "nbformat_minor": 4
}
