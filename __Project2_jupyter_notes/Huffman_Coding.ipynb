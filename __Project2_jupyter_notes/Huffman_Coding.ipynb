{
 "cells": [
  {
   "cell_type": "markdown",
   "metadata": {},
   "source": [
    "## Overview - Data Compression\n",
    "### problem description  \n",
    "In general, a data compression algorithm reduces the amount of memory (bits) required to represent a message (data). The compressed data, in turn, helps to reduce the transmission time from a sender to receiver. The sender encodes the data, and the receiver decodes the encoded data. As part of this problem, you have to implement the logic for both encoding and decoding.\n",
    "\n",
    "A data compression algorithm could be either lossy or lossless, meaning that when compressing the data, there is a loss (lossy) or no loss (lossless) of information. The Huffman Coding is a lossless data compression algorithm. Let us understand the two phases - encoding and decoding with the help of an example.\n",
    "\n",
    "### A. Huffman Encoding  \n",
    "Assume that we have a string message AAAAAAABBBCCCCCCCDDEEEEEE comprising of 25 characters to be encoded. The string message can be an unsorted one as well. We will have two phases in encoding - building the Huffman tree (a binary tree), and generating the encoded data. The following steps illustrate the Huffman encoding:\n",
    "\n",
    "#### Phase I - Build the Huffman Tree  \n",
    "A Huffman tree is built in a bottom-up approach.\n",
    "\n",
    "First, determine the frequency of each character in the message. In our example, the following table presents the frequency of each character.  \n",
    "(Unique) Character\tFrequency  \n",
    "\n",
    "A\t7\n",
    "B\t3\n",
    "C\t7\n",
    "D\t2\n",
    "E\t6\n",
    "\n",
    "Each row in the table above can be represented as a node having a character, frequency, left child, and right child. In the next step, we will repeatedly require to pop-out the node having the lowest frequency. Therefore, build and sort a list of nodes in the order lowest to highest frequencies. Remember that a list preserves the order of elements in which they are appended.  \n",
    "\n",
    "We would need our list to work as a priority queue, where a node that has lower frequency should have a higher priority to be popped-out. The following snapshot will help you visualize the example considered above:  \n",
    "\n",
    "\n",
    "Can you come up with other data structures to create a priority queue? How about using a min-heap instead of a list? You are free to choose from anyone.\n",
    "\n",
    "Pop-out two nodes with the minimum frequency from the priority queue created in the above step.  \n",
    "Create a new node with a frequency equal to the sum of the two nodes picked in the above step. This new node would become an internal node in the Huffman tree, and the two nodes would become the children. The lower frequency node becomes a left child, and the higher frequency node becomes the right child. Reinsert the newly created node back into the priority queue.\n",
    "\n",
    "Do you think that this reinsertion requires the sorting of priority queue again? If yes, then a min-heap could be a better choice due to the lower complexity of sorting the elements, every time there is an insertion.\n",
    "\n",
    "Repeat steps #3 and #4 until there is a single element left in the priority queue. The snapshots below present the building of a Huffman tree.\n",
    "\n",
    "\n",
    "For each node, in the Huffman tree, assign a bit 0 for left child and a 1 for right child. See the final Huffman tree for our example:\n",
    "\n",
    "#### Phase II - Generate the Encoded Data  \n",
    "Based on the Huffman tree, generate unique binary code for each character of our string message. For this purpose, you'd have to traverse the path from root to the leaf node.  \n",
    "(Unique) Character\tFrequency\tHuffman Code\n",
    "\n",
    "D\t2\t000\n",
    "B\t3\t001\n",
    "E\t6\t01\n",
    "A\t7\t10\n",
    "C\t7\t11\n",
    "\n",
    "Points to Notice\n",
    "\n",
    "Notice that the whole code for any character is not a prefix of any other code. Hence, the Huffman code is called a Prefix code.  \n",
    "Notice that the binary code is shorter for the more frequent character, and vice-versa.  \n",
    "The Huffman code is generated in such a way that the entire string message would now require a much lesser amount of memory in binary form.\n",
    "Notice that each node present in the original priority queue has become a leaf node in the final Huffman tree.  \n",
    "This way, our encoded data would be 1010101010101000100100111111111111111000000010101010101\n",
    "\n",
    "### B. Huffman Decoding  \n",
    "Once we have the encoded data, and the (pointer to the root of) Huffman tree, we can easily decode the encoded data using the following steps:\n",
    "\n",
    "Declare a blank decoded string  \n",
    "Pick a bit from the encoded data, traversing from left to right.  \n",
    "Start traversing the Huffman tree from the root.  \n",
    "If the current bit of encoded data is 0, move to the left child, else move to the right child of the tree if the current bit is 1.  \n",
    "If a leaf node is encountered, append the (alphabetical) character of the leaf node to the decoded string.  \n",
    "Repeat steps #2 and #3 until the encoded data is completely traversed.  \n",
    "You will have to implement the logic for both encoding and decoding in the following template. Also, you will need to create the sizing schemas to present a summary.\n",
    "\n"
   ]
  },
  {
   "cell_type": "markdown",
   "metadata": {},
   "source": [
    "### Analysis\n",
    "After I complete the huffman encode function and decode function, I wrote a test function to see whether the input string is restored after go through the encode function and the decode function.\n",
    "\n",
    "I chose priority queue data structure to reduce encoding method's time complexity. The priority queue has time complexity O(logn) instead of sorting a dictionary which has time complexity O(n).\n",
    "\n",
    "We treat the encoded data as a binary data, so the size of the data is much smaller than the original size of data.  \n",
    "Note that the input string's storage is 19 x 8 =152 bits (38 bytes), but our encoded string only takes 70bits (18bytes).i.e.,about 54% of data compression.  \n",
    "\n",
    "When we use the method sys.getsizeof() to calculate storage size, it will return a size that includes other information data in python. i.e. sys.getsizeof(a_great_sentence)) returns 69 bytes instead of 38 bytes. The sentense sys.getsizeof(int(encoded_data, base=2))) returns 36bytes instead of 18bytes. We can see the data is compressed after encoding.  \n",
    "\n",
    "To make the program readable, we have used string class to store the above program's encoded string.    \n"
   ]
  },
  {
   "cell_type": "code",
   "execution_count": 4,
   "metadata": {
    "scrolled": false
   },
   "outputs": [],
   "source": [
    "import sys\n",
    "import heapq\n",
    "from heapq import heappop, heappush\n",
    "\n",
    "# Creating tree nodes\n",
    "class Node(object): \n",
    "    def __init__(self,char, freq, left=None, right=None):  # the value is a frequency of a charactor or the sum of the chilrens value \n",
    "        self.char = char\n",
    "        self.freq = freq\n",
    "        self.left = left\n",
    "        self.right = right\n",
    "\n",
    "    def children(self):\n",
    "        return (self.left, self.right)\n",
    "    \n",
    "    def is_leaf(self):\n",
    "        if (self.left is None) and (self.right is None):\n",
    "            return True\n",
    "        return False\n",
    "    # Override the __lt__() function to make `Node` work with priority queue\n",
    "    # such that the highest priority item has the lowest frequency\n",
    "    def __lt__(self, other):\n",
    "        return self.freq < other.freq\n",
    "    \n",
    "    def __str__(self):\n",
    "        return '%s_%s_%s' % (self.left, self.right, self.char)\n",
    "\n",
    "class Tree():\n",
    "    def __init__(self, node):\n",
    "        self.root = node\n",
    "        self.left = node.left\n",
    "        self.right = node.right\n",
    "        \n",
    "    def get_root(self):\n",
    "        return self.root\n",
    "    \n",
    "    def is_leaf(self):\n",
    "        if self.left is None and self.left is None:\n",
    "            return True\n",
    "        else:\n",
    "            return False\n",
    "      \n",
    "    def __repr__(self):\n",
    "        #print(\"the root value is:\", self.root.value)\n",
    "        return '%s' % (self.root)\n",
    "\n",
    "def huffman_decoding_char(code_data, tree):\n",
    "    # base condition, if the tree is a leaf\n",
    "    if tree.is_leaf():\n",
    "        return code_data, tree.char\n",
    "    \n",
    "    char = \"\"\n",
    "    if code_data[0] is '0':\n",
    "        remain_code_data, char = huffman_decoding_char(code_data[1:],tree.left)\n",
    "        \n",
    "    elif code_data[0] is '1':\n",
    "        remain_code_data, char = huffman_decoding_char(code_data[1:],tree.right)\n",
    "        \n",
    "    return remain_code_data, char\n",
    "\n",
    "#Make the answer string by joining every charactor.\n",
    "def huffman_decoding(code_data, tree):\n",
    "    string = \"\"\n",
    "    if code_data == None and tree == None:  # the input string was \"\"\n",
    "        return \"\"\n",
    "    \n",
    "    elif tree.is_leaf():  # the input only include 1 type of charactor\n",
    "            string = (tree.get_root().char) * len(code_data)\n",
    "    else:\n",
    "        while len(code_data) > 0:\n",
    "            code_data,char = huffman_decoding_char(code_data,tree)\n",
    "            string += char\n",
    "    \n",
    "    return string\n",
    "    \n",
    "# Main function implementing huffman coding\n",
    "# returns a dictionary includes{charactor:huffman_code}, e.g. {'e': '000', 'h': '001'}\n",
    "def huffman_code_dict(node, bin_string=''):\n",
    "    \n",
    "    if node.is_leaf():  # it is leaf node\n",
    "        if len(bin_string)>0:  # the huffman tree has only one\n",
    "            return {node.char: bin_string}\n",
    "        else:\n",
    "            return {node.char: '1'}\n",
    "    (l, r) = node.children()\n",
    "    code_dict = dict()\n",
    "    if l is not None:\n",
    "        code_dict.update(huffman_code_dict(l, bin_string + '0'))\n",
    "    if r is not None:\n",
    "        code_dict.update(huffman_code_dict(r, bin_string + '1'))\n",
    "    return code_dict\n",
    "\n",
    "# Main function implementing huffman coding\n",
    "#make a string by join all of the charactors huffman code.\n",
    "def huffman_encoding(string):\n",
    "    encoded_data = \"\"\n",
    "    # Calculating frequency\n",
    "    freq = {}\n",
    "    #freq = {i: text.count(i) for i in set(text)}\n",
    "    for char in string:\n",
    "        if char in freq:\n",
    "            freq[char] += 1\n",
    "        else:\n",
    "            freq[char] = 1\n",
    "\n",
    "    #freq = sorted(freq.items(), key=lambda x: x[1], reverse=True)\n",
    "    # Create a priority queue to store live nodes of the Huffman tree\n",
    "    pq = [Node(k, v) for k, v in freq.items()]\n",
    "    heapq.heapify(pq)\n",
    "    \n",
    "    if len(pq) == 0:  # the input string is None\n",
    "        return None,None\n",
    "    elif len(pq) == 1:\n",
    "        root_node = heappop(pq)\n",
    "    else:\n",
    "        # make the tree\n",
    "        while len(pq) > 1:\n",
    "            # pickup 2 of the minimum values\n",
    "            left = heappop(pq)\n",
    "            right = heappop(pq)   \n",
    "            sum_freq = left.freq + right.freq  # new parent node. the value is sum of the chilrens value.\n",
    "            heappush(pq, Node(None, sum_freq, left, right))\n",
    "        root_node = pq[0]\n",
    "    tree = Tree(root_node)\n",
    "    huffmanCode = huffman_code_dict(tree.get_root())\n",
    "    for char in string:\n",
    "        encoded_data += huffmanCode[char]\n",
    "    return encoded_data,tree\n",
    "\n",
    "#print(' Char | Huffman code ')\n",
    "#print('----------------------')\n",
    "#for (char, frequency) in freq:\n",
    "#    print(' %-4r |%12s' % (char, huffmanCode[char]))\n"
   ]
  },
  {
   "cell_type": "code",
   "execution_count": 5,
   "metadata": {
    "scrolled": true
   },
   "outputs": [
    {
     "name": "stdout",
     "output_type": "stream",
     "text": [
      "The size of the data is: 69\n",
      "\n",
      "The content of the data is: The bird is the word\n",
      "\n",
      "The size of the encoded data is: 36\n",
      "\n",
      "The content of the encoded data is: 1110111111101010001100110000101100101101101011111101010000111001100001\n",
      "\n",
      "The size of the decoded data is: 69\n",
      "\n",
      "The content of the encoded data is: The bird is the word\n",
      "\n"
     ]
    }
   ],
   "source": [
    "#get a charactor from the left side of the given huffman code.\n",
    "\n",
    "a_great_sentence = \"The bird is the word\"\n",
    "\n",
    "print (\"The size of the data is: {}\\n\".format(sys.getsizeof(a_great_sentence)))\n",
    "print (\"The content of the data is: {}\\n\".format(a_great_sentence))\n",
    "\n",
    "encoded_data, tree = huffman_encoding(a_great_sentence)\n",
    "\n",
    "print (\"The size of the encoded data is: {}\\n\".format(sys.getsizeof(int(encoded_data, base=2))))\n",
    "print (\"The content of the encoded data is: {}\\n\".format(encoded_data))\n",
    "\n",
    "decoded_data = huffman_decoding(encoded_data, tree)\n",
    "\n",
    "print (\"The size of the decoded data is: {}\\n\".format(sys.getsizeof(decoded_data)))\n",
    "print (\"The content of the encoded data is: {}\\n\".format(decoded_data))\n"
   ]
  },
  {
   "cell_type": "code",
   "execution_count": 11,
   "metadata": {},
   "outputs": [],
   "source": [
    "def test_function(string):\n",
    "    encoded_data, tree = huffman_encoding(string)\n",
    "    decoded_data = huffman_decoding(encoded_data, tree)\n",
    "    if string == decoded_data:\n",
    "        print(\"pass\")\n",
    "        print(\"Input string:\", string)\n",
    "        print(\"huffman code: \", encoded_data)\n",
    "        print(\"tree:\", tree)\n",
    "        print(\"After decode:\", decoded_data)\n",
    "    else:\n",
    "        print(\"fail\")\n",
    "        print(\"Input string:\", string)\n",
    "        print(\"huffman code: \", encoded_data)\n",
    "        print(\"tree:\", tree)\n",
    "        print(\"After decode:\", decoded_data)\n",
    "\n"
   ]
  },
  {
   "cell_type": "code",
   "execution_count": 12,
   "metadata": {},
   "outputs": [
    {
     "name": "stdout",
     "output_type": "stream",
     "text": [
      "pass\n",
      "Input string: aaaa\n",
      "huffman code:  1111\n",
      "tree: None_None_a\n",
      "After decode: aaaa\n"
     ]
    }
   ],
   "source": [
    "#Test case 1, edge case: the input string has only 1 type of letter\n",
    "test_function(\"aaaa\")  "
   ]
  },
  {
   "cell_type": "code",
   "execution_count": 13,
   "metadata": {},
   "outputs": [
    {
     "name": "stdout",
     "output_type": "stream",
     "text": [
      "pass\n",
      "Input string: \n",
      "huffman code:  None\n",
      "tree: None\n",
      "After decode: \n"
     ]
    }
   ],
   "source": [
    "#Test case 2, edge case: the input string includes no letter\n",
    "test_function(\"\")"
   ]
  },
  {
   "cell_type": "code",
   "execution_count": 14,
   "metadata": {},
   "outputs": [
    {
     "name": "stdout",
     "output_type": "stream",
     "text": [
      "pass\n",
      "Input string: a bb ccc dddd eeee\n",
      "huffman code:  111001111111110111011011001101010100100000000\n",
      "tree: None_None_e_None_None_ _None_None_None_d_None_None_c_None_None_a_None_None_b_None_None_None_None\n",
      "After decode: a bb ccc dddd eeee\n"
     ]
    }
   ],
   "source": [
    "#Test case 3, edge case: the input string includes continuously duplicated letter \n",
    "test_function(\"a bb ccc dddd eeee\")"
   ]
  },
  {
   "cell_type": "code",
   "execution_count": 15,
   "metadata": {},
   "outputs": [
    {
     "name": "stdout",
     "output_type": "stream",
     "text": [
      "pass\n",
      "Input string: The bird is the word\n",
      "huffman code:  1110111111101010001100110000101100101101101011111101010000111001100001\n",
      "tree: None_None_w_None_None_b_None_None_None_d_None_None_None_ _None_None_None_i_None_None_t_None_None_s_None_None_None_None_r_None_None_e_None_None_None_o_None_None_T_None_None_None_h_None_None_None_None\n",
      "After decode: The bird is the word\n"
     ]
    }
   ],
   "source": [
    "#Test case 4, original problem's example string\n",
    "test_function(\"The bird is the word\")   "
   ]
  },
  {
   "cell_type": "code",
   "execution_count": null,
   "metadata": {},
   "outputs": [],
   "source": []
  },
  {
   "cell_type": "code",
   "execution_count": null,
   "metadata": {},
   "outputs": [],
   "source": []
  }
 ],
 "metadata": {
  "kernelspec": {
   "display_name": "Python 3",
   "language": "python",
   "name": "python3"
  },
  "language_info": {
   "codemirror_mode": {
    "name": "ipython",
    "version": 3
   },
   "file_extension": ".py",
   "mimetype": "text/x-python",
   "name": "python",
   "nbconvert_exporter": "python",
   "pygments_lexer": "ipython3",
   "version": "3.7.7"
  }
 },
 "nbformat": 4,
 "nbformat_minor": 4
}
