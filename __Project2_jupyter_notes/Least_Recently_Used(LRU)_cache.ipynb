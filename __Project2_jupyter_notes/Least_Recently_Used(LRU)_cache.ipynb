{
 "cells": [
  {
   "cell_type": "markdown",
   "metadata": {},
   "source": [
    "## Least Recently Used Cache \n",
    "### problem description  \n",
    "We have briefly discussed caching as part of a practice problem while studying hash maps.\n",
    "\n",
    "The lookup operation (i.e., get()) and put() / set() is supposed to be fast for a cache memory.\n",
    "\n",
    "While doing the get() operation, if the entry is found in the cache, it is known as a cache hit. If, however, the entry is not found, it is known as a cache miss.\n",
    "\n",
    "When designing a cache, we also place an upper bound on the size of the cache. If the cache is full and we want to add a new entry to the cache, we use some criteria to remove an element. After removing an element, we use the put() operation to insert the new element. The remove operation should also be fast.\n",
    "\n",
    "For our first problem, the goal will be to design a data structure known as a Least Recently Used (LRU) cache. An LRU cache is a type of cache in which we remove the least recently used entry when the cache memory reaches its limit. For the current problem, consider both get and set operations as an use operation.\n",
    "\n",
    "Your job is to use an appropriate data structure(s) to implement the cache.\n",
    "\n",
    "In case of a cache hit, your get() operation should return the appropriate value.  \n",
    "In case of a cache miss, your get() should return -1.  \n",
    "While putting an element in the cache, your put() / set() operation must insert the element. If the cache is full, you must write code that removes the least recently used entry first and then insert the element.  \n",
    "All operations must take O(1) time.\n",
    "\n",
    "For the current problem, you can consider the size of cache = 5.\n",
    "\n",
    "Here is some boiler plate code and some example test cases to get you started on this problem:"
   ]
  },
  {
   "cell_type": "markdown",
   "metadata": {},
   "source": [
    "### Analysis\n",
    "I chose dictionary data type to treat the input (key, value) set to a queue data structure.\n",
    "Every time when the program access methods get(key) or set(key, value), the (key,value) will move to the tail of the queue.\n",
    "This makes least used item is always in the first position of the queue.\n",
    "If a key is new for the cache and the cache is at capacity, the method set(key, value) will remove the item in the first position of the queue.\n",
    "All operations takes O(1) time. "
   ]
  },
  {
   "cell_type": "code",
   "execution_count": 5,
   "metadata": {
    "scrolled": true
   },
   "outputs": [],
   "source": [
    "#I would like to use queue for the cache\n",
    "\n",
    "class LRU_Cache(object):\n",
    "\n",
    "    def __init__(self, capacity):\n",
    "        # Initialize class variables\n",
    "        self.cashe = {}\n",
    "        self.capacity = capacity\n",
    "        pass\n",
    "\n",
    "    def get(self, key):\n",
    "        # Retrieve item from provided key. Return -1 if nonexistent. \n",
    "        # I decide to use get() method instead of self.cashe.pop(key,None) for simplicity.\n",
    "        value = self.cashe.get(key)  # if can not found the key, the value will be set to -1\n",
    "        if value == None:  \n",
    "            value = -1\n",
    "        else:\n",
    "            # found the key,delete from the original position and append it to the last positon of the dictionary\n",
    "            self.cashe.pop(key)\n",
    "            self.cashe[key] = value\n",
    "        return value\n",
    "\n",
    "    def set(self, key, value):\n",
    "        # If the key is new and the cache is at capacity, remove the least used item which is in the first position of the dictionary\n",
    "        # if I use self.get() instead of self.cashe.get(key), I can not distinguish the rusult is value==-1 or \"key not found\"\n",
    "        if (self.cashe.get(key) == None) and (len(self.cashe) == self.capacity):\n",
    "            first_key = next(iter(self.cashe))\n",
    "            del self.cashe[first_key]  # delete the first key , it is the least used item\n",
    "                \n",
    "        self.cashe[key] = value"
   ]
  },
  {
   "cell_type": "code",
   "execution_count": 6,
   "metadata": {},
   "outputs": [],
   "source": [
    "def test_function(our_cache,func_return,expected_result,expected_cashe):\n",
    "    if (func_return == expected_result) and (our_cache.cashe == expected_cashe):\n",
    "        print(\"pass\")\n",
    "        print(\"The function returned: \", func_return)\n",
    "        print(\"The cashe is: \", our_cache.cashe)\n",
    "    else:\n",
    "        print(\"fail\")\n",
    "        print(\"The function returned: \", func_return)\n",
    "        print(\"The cashe is: \", our_cache.cashe)"
   ]
  },
  {
   "cell_type": "code",
   "execution_count": 7,
   "metadata": {},
   "outputs": [],
   "source": [
    "our_cache = LRU_Cache(5)\n"
   ]
  },
  {
   "cell_type": "code",
   "execution_count": 8,
   "metadata": {
    "scrolled": true
   },
   "outputs": [
    {
     "name": "stdout",
     "output_type": "stream",
     "text": [
      "pass\n",
      "The function returned:  None\n",
      "The cashe is:  {1: 1}\n",
      "pass\n",
      "The function returned:  None\n",
      "The cashe is:  {1: 1, 2: 2}\n",
      "pass\n",
      "The function returned:  None\n",
      "The cashe is:  {1: 1, 2: 2, 3: 3}\n",
      "pass\n",
      "The function returned:  None\n",
      "The cashe is:  {1: 1, 2: 2, 3: 3, 4: 4}\n",
      "pass\n",
      "The function returned:  1\n",
      "The cashe is:  {2: 2, 3: 3, 4: 4, 1: 1}\n",
      "pass\n",
      "The function returned:  2\n",
      "The cashe is:  {3: 3, 4: 4, 1: 1, 2: 2}\n",
      "pass\n",
      "The function returned:  -1\n",
      "The cashe is:  {3: 3, 4: 4, 1: 1, 2: 2}\n",
      "pass\n",
      "The function returned:  None\n",
      "The cashe is:  {3: 3, 4: 4, 1: 1, 2: 2, 5: 5}\n",
      "pass\n",
      "The function returned:  None\n",
      "The cashe is:  {4: 4, 1: 1, 2: 2, 5: 5, 6: 6}\n",
      "pass\n",
      "The function returned:  -1\n",
      "The cashe is:  {4: 4, 1: 1, 2: 2, 5: 5, 6: 6}\n",
      "pass\n",
      "The function returned:  None\n",
      "The cashe is:  {4: 4, 1: 1, 2: 2, 5: 5, 6: -1}\n",
      "pass\n",
      "The function returned:  -1\n",
      "The cashe is:  {4: 4, 1: 1, 2: 2, 5: 5, 6: -1}\n",
      "pass\n",
      "The function returned:  None\n",
      "The cashe is:  {4: 4, 1: 1, 2: 2, 5: 5, 6: 100}\n"
     ]
    }
   ],
   "source": [
    "#Test case 1: Normal set and get.\n",
    "test_function(our_cache, our_cache.set(1, 1), None,{1: 1})  #None\n",
    "test_function(our_cache, our_cache.set(2, 2), None,{1: 1, 2: 2})  #None\n",
    "test_function(our_cache, our_cache.set(3, 3), None,{1: 1, 2: 2, 3: 3})  #None\n",
    "test_function(our_cache, our_cache.set(4, 4), None,{1: 1, 2: 2, 3: 3, 4: 4})  #None\n",
    "test_function(our_cache, our_cache.get(1), 1, {2: 2, 3: 3, 4: 4, 1: 1})  #1\n",
    "test_function(our_cache, our_cache.get(2), 2, {3: 3, 4: 4, 1: 1, 2: 2})  #2\n",
    "\n",
    "#Test case 2, edge case: The key is not exists\n",
    "test_function(our_cache, our_cache.get(9), -1, {3: 3, 4: 4, 1: 1, 2: 2})  #-1\n",
    "\n",
    "#Test case 3, edge case: Cashe reached capacity,and new key is given.\n",
    "test_function(our_cache, our_cache.set(5, 5), None,{3: 3, 4: 4, 1: 1, 2: 2, 5: 5})  #None\n",
    "test_function(our_cache, our_cache.set(6, 6), None,{4: 4, 1: 1, 2: 2, 5: 5, 6: 6})  #None #The leaset used itme (3,3) has been deleted\n",
    "test_function(our_cache, our_cache.get(3), -1, {4: 4, 1: 1, 2: 2, 5: 5, 6: 6} )  #-1\n",
    "\n",
    "#Test case 4, edge case: handle value == -1 to set(key, value)\n",
    "test_function(our_cache, our_cache.set(6, -1), None,{4: 4, 1: 1, 2: 2, 5: 5, 6: -1})  #None\n",
    "test_function(our_cache, our_cache.get(6), -1 ,{4: 4,1: 1, 2: 2, 5: 5,6: -1})  #-1 # Value  -1  successfully has been set\n",
    "test_function(our_cache, our_cache.set(6, 100), None,{4: 4, 1: 1, 2: 2, 5: 5, 6: 100})  #None # Can update the value after -1 setting.\n"
   ]
  },
  {
   "cell_type": "code",
   "execution_count": null,
   "metadata": {},
   "outputs": [],
   "source": []
  }
 ],
 "metadata": {
  "kernelspec": {
   "display_name": "Python 3",
   "language": "python",
   "name": "python3"
  },
  "language_info": {
   "codemirror_mode": {
    "name": "ipython",
    "version": 3
   },
   "file_extension": ".py",
   "mimetype": "text/x-python",
   "name": "python",
   "nbconvert_exporter": "python",
   "pygments_lexer": "ipython3",
   "version": "3.7.7"
  }
 },
 "nbformat": 4,
 "nbformat_minor": 4
}
